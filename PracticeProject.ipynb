{
 "cells": [
  {
   "cell_type": "code",
   "execution_count": 1,
   "id": "cd4198d8",
   "metadata": {},
   "outputs": [],
   "source": [
    "import tensorflow as tf\n",
    "from tensorflow import keras\n",
    "from matplotlib import pyplot as plt\n",
    "import numpy as np\n",
    "import pandas as pd"
   ]
  },
  {
   "cell_type": "code",
   "execution_count": 2,
   "id": "e8ea3692",
   "metadata": {},
   "outputs": [],
   "source": [
    "fashionMnist = keras.datasets.fashion_mnist\n",
    "(x_train_full, y_train_full), (x_test, y_test) = fashionMnist.load_data()"
   ]
  },
  {
   "cell_type": "code",
   "execution_count": 3,
   "id": "2dd7ab89",
   "metadata": {},
   "outputs": [
    {
     "data": {
      "text/plain": [
       "9"
      ]
     },
     "execution_count": 3,
     "metadata": {},
     "output_type": "execute_result"
    },
    {
     "data": {
      "image/png": "[encoded data removed]",
      "text/plain": [
       "<Figure size 640x480 with 1 Axes>"
      ]
     },
     "metadata": {},
     "output_type": "display_data"
    }
   ],
   "source": [
    "plt.imshow(x_train_full[0])\n",
    "y_train_full[0]"
   ]
  },
  {
   "cell_type": "code",
   "execution_count": 4,
   "id": "cf0eaf27",
   "metadata": {},
   "outputs": [],
   "source": [
    "classNames = [\"T-shirt/top\",\"Trouser\",\"Pullover\", \"Dress\", \"Coat\", \"Sandal\", \"Shirt\", \"Sneaker\", \"Bag\", \"Ankle boot\"]"
   ]
  },
  {
   "cell_type": "code",
   "execution_count": 5,
   "id": "0fdb22c8",
   "metadata": {},
   "outputs": [
    {
     "data": {
      "text/plain": [
       "'Ankle boot'"
      ]
     },
     "execution_count": 5,
     "metadata": {},
     "output_type": "execute_result"
    }
   ],
   "source": [
    "classNames[y_train_full[0]]"
   ]
  },
  {
   "cell_type": "code",
   "execution_count": 6,
   "id": "19061e67",
   "metadata": {},
   "outputs": [
    {
     "data": {
      "text/plain": [
       "array([[  0,   0,   0,   0,   0,   0,   0,   0,   0,   0,   0,   0,   0,\n",
       "          0,   0,   0,   0,   0,   0,   0,   0,   0,   0,   0,   0,   0,\n",
       "          0,   0],\n",
       "       [  0,   0,   0,   0,   0,   0,   0,   0,   0,   0,   0,   0,   0,\n",
       "          0,   0,   0,   0,   0,   0,   0,   0,   0,   0,   0,   0,   0,\n",
       "          0,   0],\n",
       "       [  0,   0,   0,   0,   0,   0,   0,   0,   0,   0,   0,   0,   0,\n",
       "          0,   0,   0,   0,   0,   0,   0,   0,   0,   0,   0,   0,   0,\n",
       "          0,   0],\n",
       "       [  0,   0,   0,   0,   0,   0,   0,   0,   0,   0,   0,   0,   1,\n",
       "          0,   0,  13,  73,   0,   0,   1,   4,   0,   0,   0,   0,   1,\n",
       "          1,   0],\n",
       "       [  0,   0,   0,   0,   0,   0,   0,   0,   0,   0,   0,   0,   3,\n",
       "          0,  36, 136, 127,  62,  54,   0,   0,   0,   1,   3,   4,   0,\n",
       "          0,   3],\n",
       "       [  0,   0,   0,   0,   0,   0,   0,   0,   0,   0,   0,   0,   6,\n",
       "          0, 102, 204, 176, 134, 144, 123,  23,   0,   0,   0,   0,  12,\n",
       "         10,   0],\n",
       "       [  0,   0,   0,   0,   0,   0,   0,   0,   0,   0,   0,   0,   0,\n",
       "          0, 155, 236, 207, 178, 107, 156, 161, 109,  64,  23,  77, 130,\n",
       "         72,  15],\n",
       "       [  0,   0,   0,   0,   0,   0,   0,   0,   0,   0,   0,   1,   0,\n",
       "         69, 207, 223, 218, 216, 216, 163, 127, 121, 122, 146, 141,  88,\n",
       "        172,  66],\n",
       "       [  0,   0,   0,   0,   0,   0,   0,   0,   0,   1,   1,   1,   0,\n",
       "        200, 232, 232, 233, 229, 223, 223, 215, 213, 164, 127, 123, 196,\n",
       "        229,   0],\n",
       "       [  0,   0,   0,   0,   0,   0,   0,   0,   0,   0,   0,   0,   0,\n",
       "        183, 225, 216, 223, 228, 235, 227, 224, 222, 224, 221, 223, 245,\n",
       "        173,   0],\n",
       "       [  0,   0,   0,   0,   0,   0,   0,   0,   0,   0,   0,   0,   0,\n",
       "        193, 228, 218, 213, 198, 180, 212, 210, 211, 213, 223, 220, 243,\n",
       "        202,   0],\n",
       "       [  0,   0,   0,   0,   0,   0,   0,   0,   0,   1,   3,   0,  12,\n",
       "        219, 220, 212, 218, 192, 169, 227, 208, 218, 224, 212, 226, 197,\n",
       "        209,  52],\n",
       "       [  0,   0,   0,   0,   0,   0,   0,   0,   0,   0,   6,   0,  99,\n",
       "        244, 222, 220, 218, 203, 198, 221, 215, 213, 222, 220, 245, 119,\n",
       "        167,  56],\n",
       "       [  0,   0,   0,   0,   0,   0,   0,   0,   0,   4,   0,   0,  55,\n",
       "        236, 228, 230, 228, 240, 232, 213, 218, 223, 234, 217, 217, 209,\n",
       "         92,   0],\n",
       "       [  0,   0,   1,   4,   6,   7,   2,   0,   0,   0,   0,   0, 237,\n",
       "        226, 217, 223, 222, 219, 222, 221, 216, 223, 229, 215, 218, 255,\n",
       "         77,   0],\n",
       "       [  0,   3,   0,   0,   0,   0,   0,   0,   0,  62, 145, 204, 228,\n",
       "        207, 213, 221, 218, 208, 211, 218, 224, 223, 219, 215, 224, 244,\n",
       "        159,   0],\n",
       "       [  0,   0,   0,   0,  18,  44,  82, 107, 189, 228, 220, 222, 217,\n",
       "        226, 200, 205, 211, 230, 224, 234, 176, 188, 250, 248, 233, 238,\n",
       "        215,   0],\n",
       "       [  0,  57, 187, 208, 224, 221, 224, 208, 204, 214, 208, 209, 200,\n",
       "        159, 245, 193, 206, 223, 255, 255, 221, 234, 221, 211, 220, 232,\n",
       "        246,   0],\n",
       "       [  3, 202, 228, 224, 221, 211, 211, 214, 205, 205, 205, 220, 240,\n",
       "         80, 150, 255, 229, 221, 188, 154, 191, 210, 204, 209, 222, 228,\n",
       "        225,   0],\n",
       "       [ 98, 233, 198, 210, 222, 229, 229, 234, 249, 220, 194, 215, 217,\n",
       "        241,  65,  73, 106, 117, 168, 219, 221, 215, 217, 223, 223, 224,\n",
       "        229,  29],\n",
       "       [ 75, 204, 212, 204, 193, 205, 211, 225, 216, 185, 197, 206, 198,\n",
       "        213, 240, 195, 227, 245, 239, 223, 218, 212, 209, 222, 220, 221,\n",
       "        230,  67],\n",
       "       [ 48, 203, 183, 194, 213, 197, 185, 190, 194, 192, 202, 214, 219,\n",
       "        221, 220, 236, 225, 216, 199, 206, 186, 181, 177, 172, 181, 205,\n",
       "        206, 115],\n",
       "       [  0, 122, 219, 193, 179, 171, 183, 196, 204, 210, 213, 207, 211,\n",
       "        210, 200, 196, 194, 191, 195, 191, 198, 192, 176, 156, 167, 177,\n",
       "        210,  92],\n",
       "       [  0,   0,  74, 189, 212, 191, 175, 172, 175, 181, 185, 188, 189,\n",
       "        188, 193, 198, 204, 209, 210, 210, 211, 188, 188, 194, 192, 216,\n",
       "        170,   0],\n",
       "       [  2,   0,   0,   0,  66, 200, 222, 237, 239, 242, 246, 243, 244,\n",
       "        221, 220, 193, 191, 179, 182, 182, 181, 176, 166, 168,  99,  58,\n",
       "          0,   0],\n",
       "       [  0,   0,   0,   0,   0,   0,   0,  40,  61,  44,  72,  41,  35,\n",
       "          0,   0,   0,   0,   0,   0,   0,   0,   0,   0,   0,   0,   0,\n",
       "          0,   0],\n",
       "       [  0,   0,   0,   0,   0,   0,   0,   0,   0,   0,   0,   0,   0,\n",
       "          0,   0,   0,   0,   0,   0,   0,   0,   0,   0,   0,   0,   0,\n",
       "          0,   0],\n",
       "       [  0,   0,   0,   0,   0,   0,   0,   0,   0,   0,   0,   0,   0,\n",
       "          0,   0,   0,   0,   0,   0,   0,   0,   0,   0,   0,   0,   0,\n",
       "          0,   0]], dtype=uint8)"
      ]
     },
     "execution_count": 6,
     "metadata": {},
     "output_type": "execute_result"
    }
   ],
   "source": [
    "x_train_full[0]"
   ]
  },
  {
   "cell_type": "code",
   "execution_count": 7,
   "id": "7fa083f0",
   "metadata": {},
   "outputs": [],
   "source": [
    "x_train_n = x_train_full / 255.\n",
    "x_test_n = x_test / 255."
   ]
  },
  {
   "cell_type": "code",
   "execution_count": 8,
   "id": "37eaf9c5",
   "metadata": {},
   "outputs": [],
   "source": [
    "x_validation, x_train = x_train_n[:5000], x_train_n[5000:]\n",
    "y_validation, y_train = y_train_full[:5000], y_train_full[5000:]\n",
    "x_test = x_test_n"
   ]
  },
  {
   "cell_type": "code",
   "execution_count": 9,
   "id": "0f266df4",
   "metadata": {},
   "outputs": [],
   "source": [
    "np.random.seed(42)\n",
    "tf.random.set_seed(42)"
   ]
  },
  {
   "cell_type": "code",
   "execution_count": 10,
   "id": "b09924a3",
   "metadata": {},
   "outputs": [],
   "source": [
    "model = keras.models.Sequential()\n",
    "model.add(keras.layers.Flatten(input_shape=[28, 28]))\n",
    "model.add(keras.layers.Dense(300, activation=\"relu\"))\n",
    "model.add(keras.layers.Dense(100, activation=\"relu\"))\n",
    "model.add(keras.layers.Dense(10, activation=\"softmax\"))"
   ]
  },
  {
   "cell_type": "code",
   "execution_count": 11,
   "id": "03fab8bd",
   "metadata": {},
   "outputs": [
    {
     "name": "stdout",
     "output_type": "stream",
     "text": [
      "Model: \"sequential\"\n",
      "_________________________________________________________________\n",
      " Layer (type)                Output Shape              Param #   \n",
      "=================================================================\n",
      " flatten (Flatten)           (None, 784)               0         \n",
      "                                                                 \n",
      " dense (Dense)               (None, 300)               235500    \n",
      "                                                                 \n",
      " dense_1 (Dense)             (None, 100)               30100     \n",
      "                                                                 \n",
      " dense_2 (Dense)             (None, 10)                1010      \n",
      "                                                                 \n",
      "=================================================================\n",
      "Total params: 266,610\n",
      "Trainable params: 266,610\n",
      "Non-trainable params: 0\n",
      "_________________________________________________________________\n"
     ]
    }
   ],
   "source": [
    "model.summary()"
   ]
  },
  {
   "cell_type": "code",
   "execution_count": 12,
   "id": "a84aad7a",
   "metadata": {},
   "outputs": [],
   "source": [
    "weights, biases = model.layers[1].get_weights()"
   ]
  },
  {
   "cell_type": "code",
   "execution_count": 13,
   "id": "4552c4b9",
   "metadata": {},
   "outputs": [
    {
     "data": {
      "text/plain": [
       "(784, 300)"
      ]
     },
     "execution_count": 13,
     "metadata": {},
     "output_type": "execute_result"
    }
   ],
   "source": [
    "weights.shape"
   ]
  },
  {
   "cell_type": "code",
   "execution_count": 14,
   "id": "75ed446f",
   "metadata": {},
   "outputs": [
    {
     "data": {
      "text/plain": [
       "array([[-0.00508305,  0.05215836,  0.05876611, ...,  0.0262818 ,\n",
       "        -0.00648657,  0.02930734],\n",
       "       [-0.00113797, -0.02901367, -0.03642568, ...,  0.01819082,\n",
       "        -0.02885195, -0.0390917 ],\n",
       "       [-0.00529478,  0.00066973,  0.01394605, ..., -0.00613075,\n",
       "         0.03792119,  0.00750829],\n",
       "       ...,\n",
       "       [ 0.04075509, -0.03000566,  0.07335904, ..., -0.07040542,\n",
       "         0.05665423, -0.0224875 ],\n",
       "       [ 0.01027336, -0.00879925,  0.05809781, ...,  0.04035752,\n",
       "         0.00885896,  0.05804923],\n",
       "       [-0.06400632, -0.06784328, -0.06216257, ..., -0.0059858 ,\n",
       "         0.0263233 ,  0.05543375]], dtype=float32)"
      ]
     },
     "execution_count": 14,
     "metadata": {},
     "output_type": "execute_result"
    }
   ],
   "source": [
    "weights"
   ]
  },
  {
   "cell_type": "code",
   "execution_count": 15,
   "id": "9c43da92",
   "metadata": {},
   "outputs": [
    {
     "data": {
      "text/plain": [
       "array([0., 0., 0., 0., 0., 0., 0., 0., 0., 0., 0., 0., 0., 0., 0., 0., 0.,\n",
       "       0., 0., 0., 0., 0., 0., 0., 0., 0., 0., 0., 0., 0., 0., 0., 0., 0.,\n",
       "       0., 0., 0., 0., 0., 0., 0., 0., 0., 0., 0., 0., 0., 0., 0., 0., 0.,\n",
       "       0., 0., 0., 0., 0., 0., 0., 0., 0., 0., 0., 0., 0., 0., 0., 0., 0.,\n",
       "       0., 0., 0., 0., 0., 0., 0., 0., 0., 0., 0., 0., 0., 0., 0., 0., 0.,\n",
       "       0., 0., 0., 0., 0., 0., 0., 0., 0., 0., 0., 0., 0., 0., 0., 0., 0.,\n",
       "       0., 0., 0., 0., 0., 0., 0., 0., 0., 0., 0., 0., 0., 0., 0., 0., 0.,\n",
       "       0., 0., 0., 0., 0., 0., 0., 0., 0., 0., 0., 0., 0., 0., 0., 0., 0.,\n",
       "       0., 0., 0., 0., 0., 0., 0., 0., 0., 0., 0., 0., 0., 0., 0., 0., 0.,\n",
       "       0., 0., 0., 0., 0., 0., 0., 0., 0., 0., 0., 0., 0., 0., 0., 0., 0.,\n",
       "       0., 0., 0., 0., 0., 0., 0., 0., 0., 0., 0., 0., 0., 0., 0., 0., 0.,\n",
       "       0., 0., 0., 0., 0., 0., 0., 0., 0., 0., 0., 0., 0., 0., 0., 0., 0.,\n",
       "       0., 0., 0., 0., 0., 0., 0., 0., 0., 0., 0., 0., 0., 0., 0., 0., 0.,\n",
       "       0., 0., 0., 0., 0., 0., 0., 0., 0., 0., 0., 0., 0., 0., 0., 0., 0.,\n",
       "       0., 0., 0., 0., 0., 0., 0., 0., 0., 0., 0., 0., 0., 0., 0., 0., 0.,\n",
       "       0., 0., 0., 0., 0., 0., 0., 0., 0., 0., 0., 0., 0., 0., 0., 0., 0.,\n",
       "       0., 0., 0., 0., 0., 0., 0., 0., 0., 0., 0., 0., 0., 0., 0., 0., 0.,\n",
       "       0., 0., 0., 0., 0., 0., 0., 0., 0., 0., 0.], dtype=float32)"
      ]
     },
     "execution_count": 15,
     "metadata": {},
     "output_type": "execute_result"
    }
   ],
   "source": [
    "biases"
   ]
  },
  {
   "cell_type": "code",
   "execution_count": 16,
   "id": "d739f1e7",
   "metadata": {},
   "outputs": [],
   "source": [
    "model.compile(loss=\"sparse_categorical_crossentropy\", optimizer=\"sgd\", metrics=[\"accuracy\"])"
   ]
  },
  {
   "cell_type": "code",
   "execution_count": 27,
   "id": "5b366f91",
   "metadata": {},
   "outputs": [
    {
     "name": "stdout",
     "output_type": "stream",
     "text": [
      "Epoch 1/30\n",
      "1719/1719 [==============================] - 10s 6ms/step - loss: 0.2209 - accuracy: 0.9202 - val_loss: 0.2958 - val_accuracy: 0.8946\n",
      "Epoch 2/30\n",
      "1719/1719 [==============================] - 10s 6ms/step - loss: 0.2176 - accuracy: 0.9220 - val_loss: 0.2945 - val_accuracy: 0.8928\n",
      "Epoch 3/30\n",
      "1719/1719 [==============================] - 10s 6ms/step - loss: 0.2139 - accuracy: 0.9237 - val_loss: 0.3614 - val_accuracy: 0.8696\n",
      "Epoch 4/30\n",
      "1719/1719 [==============================] - 10s 6ms/step - loss: 0.2097 - accuracy: 0.9258 - val_loss: 0.3088 - val_accuracy: 0.8902\n",
      "Epoch 5/30\n",
      "1719/1719 [==============================] - 10s 6ms/step - loss: 0.2089 - accuracy: 0.9245 - val_loss: 0.2891 - val_accuracy: 0.8954\n",
      "Epoch 6/30\n",
      "1719/1719 [==============================] - 10s 6ms/step - loss: 0.2031 - accuracy: 0.9282 - val_loss: 0.3100 - val_accuracy: 0.8898\n",
      "Epoch 7/30\n",
      "1719/1719 [==============================] - 10s 6ms/step - loss: 0.1998 - accuracy: 0.9295 - val_loss: 0.3023 - val_accuracy: 0.8950\n",
      "Epoch 8/30\n",
      "1719/1719 [==============================] - 10s 6ms/step - loss: 0.1981 - accuracy: 0.9299 - val_loss: 0.3129 - val_accuracy: 0.8856\n",
      "Epoch 9/30\n",
      "1719/1719 [==============================] - 11s 6ms/step - loss: 0.1946 - accuracy: 0.9299 - val_loss: 0.2970 - val_accuracy: 0.8922\n",
      "Epoch 10/30\n",
      "1719/1719 [==============================] - 10s 6ms/step - loss: 0.1914 - accuracy: 0.9312 - val_loss: 0.2933 - val_accuracy: 0.8948\n",
      "Epoch 11/30\n",
      "1719/1719 [==============================] - 10s 6ms/step - loss: 0.1890 - accuracy: 0.9323 - val_loss: 0.2948 - val_accuracy: 0.8962\n",
      "Epoch 12/30\n",
      "1719/1719 [==============================] - 10s 6ms/step - loss: 0.1844 - accuracy: 0.9343 - val_loss: 0.3036 - val_accuracy: 0.8900\n",
      "Epoch 13/30\n",
      "1719/1719 [==============================] - 11s 6ms/step - loss: 0.1822 - accuracy: 0.9353 - val_loss: 0.3019 - val_accuracy: 0.8912\n",
      "Epoch 14/30\n",
      "1719/1719 [==============================] - 10s 6ms/step - loss: 0.1796 - accuracy: 0.9363 - val_loss: 0.3245 - val_accuracy: 0.8790\n",
      "Epoch 15/30\n",
      "1719/1719 [==============================] - 10s 6ms/step - loss: 0.1762 - accuracy: 0.9367 - val_loss: 0.3041 - val_accuracy: 0.8938\n",
      "Epoch 16/30\n",
      "1719/1719 [==============================] - 10s 6ms/step - loss: 0.1748 - accuracy: 0.9388 - val_loss: 0.3024 - val_accuracy: 0.8914\n",
      "Epoch 17/30\n",
      "1719/1719 [==============================] - 10s 6ms/step - loss: 0.1716 - accuracy: 0.9390 - val_loss: 0.3338 - val_accuracy: 0.8866\n",
      "Epoch 18/30\n",
      "1719/1719 [==============================] - 10s 6ms/step - loss: 0.1681 - accuracy: 0.9406 - val_loss: 0.2950 - val_accuracy: 0.8968\n",
      "Epoch 19/30\n",
      "1719/1719 [==============================] - 10s 6ms/step - loss: 0.1656 - accuracy: 0.9412 - val_loss: 0.3072 - val_accuracy: 0.8944\n",
      "Epoch 20/30\n",
      "1719/1719 [==============================] - 10s 6ms/step - loss: 0.1627 - accuracy: 0.9424 - val_loss: 0.3173 - val_accuracy: 0.8884\n",
      "Epoch 21/30\n",
      "1719/1719 [==============================] - 10s 6ms/step - loss: 0.1606 - accuracy: 0.9425 - val_loss: 0.3017 - val_accuracy: 0.8932\n",
      "Epoch 22/30\n",
      "1719/1719 [==============================] - 11s 6ms/step - loss: 0.1585 - accuracy: 0.9439 - val_loss: 0.2967 - val_accuracy: 0.8982\n",
      "Epoch 23/30\n",
      "1719/1719 [==============================] - 10s 6ms/step - loss: 0.1556 - accuracy: 0.9446 - val_loss: 0.3009 - val_accuracy: 0.8968\n",
      "Epoch 24/30\n",
      "1719/1719 [==============================] - 11s 6ms/step - loss: 0.1531 - accuracy: 0.9455 - val_loss: 0.3145 - val_accuracy: 0.8914\n",
      "Epoch 25/30\n",
      "1719/1719 [==============================] - 10s 6ms/step - loss: 0.1502 - accuracy: 0.9465 - val_loss: 0.3046 - val_accuracy: 0.8928\n",
      "Epoch 26/30\n",
      "1719/1719 [==============================] - 10s 6ms/step - loss: 0.1476 - accuracy: 0.9477 - val_loss: 0.3237 - val_accuracy: 0.8920\n",
      "Epoch 27/30\n",
      "1719/1719 [==============================] - 10s 6ms/step - loss: 0.1463 - accuracy: 0.9485 - val_loss: 0.3089 - val_accuracy: 0.8954\n",
      "Epoch 28/30\n",
      "1719/1719 [==============================] - 10s 6ms/step - loss: 0.1431 - accuracy: 0.9497 - val_loss: 0.3033 - val_accuracy: 0.8972\n",
      "Epoch 29/30\n",
      "1719/1719 [==============================] - 11s 6ms/step - loss: 0.1410 - accuracy: 0.9507 - val_loss: 0.3103 - val_accuracy: 0.8968\n",
      "Epoch 30/30\n",
      "1719/1719 [==============================] - 10s 6ms/step - loss: 0.1388 - accuracy: 0.9513 - val_loss: 0.3293 - val_accuracy: 0.8916\n"
     ]
    }
   ],
   "source": [
    "model_history = model.fit(x_train, y_train, epochs=30, validation_data=(x_validation, y_validation))"
   ]
  },
  {
   "cell_type": "code",
   "execution_count": 28,
   "id": "4b1ed21b",
   "metadata": {},
   "outputs": [
    {
     "data": {
      "text/plain": [
       "{'verbose': 1, 'epochs': 30, 'steps': 1719}"
      ]
     },
     "execution_count": 28,
     "metadata": {},
     "output_type": "execute_result"
    }
   ],
   "source": [
    "model_history.params"
   ]
  },
  {
   "cell_type": "code",
   "execution_count": 29,
   "id": "31a1ebcd",
   "metadata": {},
   "outputs": [
    {
     "data": {
      "text/plain": [
       "{'loss': [0.22092419862747192,\n",
       "  0.21764034032821655,\n",
       "  0.21387924253940582,\n",
       "  0.20973224937915802,\n",
       "  0.2089070826768875,\n",
       "  0.20307718217372894,\n",
       "  0.1998482495546341,\n",
       "  0.19813157618045807,\n",
       "  0.1945943832397461,\n",
       "  0.19139701128005981,\n",
       "  0.18895278871059418,\n",
       "  0.18435807526111603,\n",
       "  0.18218545615673065,\n",
       "  0.17959308624267578,\n",
       "  0.1762022227048874,\n",
       "  0.17479923367500305,\n",
       "  0.17157243192195892,\n",
       "  0.16814327239990234,\n",
       "  0.16562509536743164,\n",
       "  0.16272121667861938,\n",
       "  0.16056624054908752,\n",
       "  0.1585017889738083,\n",
       "  0.1556020975112915,\n",
       "  0.15311814844608307,\n",
       "  0.15018989145755768,\n",
       "  0.14760218560695648,\n",
       "  0.14626839756965637,\n",
       "  0.14309853315353394,\n",
       "  0.14099545776844025,\n",
       "  0.13878217339515686],\n",
       " 'accuracy': [0.920199990272522,\n",
       "  0.921963632106781,\n",
       "  0.923690915107727,\n",
       "  0.9258000254631042,\n",
       "  0.9245454668998718,\n",
       "  0.9282000064849854,\n",
       "  0.9295272827148438,\n",
       "  0.9299091100692749,\n",
       "  0.9299454689025879,\n",
       "  0.9311636090278625,\n",
       "  0.9323272705078125,\n",
       "  0.9343454837799072,\n",
       "  0.9352545738220215,\n",
       "  0.9363272786140442,\n",
       "  0.9366909265518188,\n",
       "  0.9387817978858948,\n",
       "  0.939018189907074,\n",
       "  0.9406181573867798,\n",
       "  0.9411818385124207,\n",
       "  0.9423817992210388,\n",
       "  0.942545473575592,\n",
       "  0.9439091086387634,\n",
       "  0.944563627243042,\n",
       "  0.9454908967018127,\n",
       "  0.946472704410553,\n",
       "  0.9477272629737854,\n",
       "  0.9484545588493347,\n",
       "  0.9497091174125671,\n",
       "  0.9507091045379639,\n",
       "  0.9513454437255859],\n",
       " 'val_loss': [0.2957642674446106,\n",
       "  0.29449447989463806,\n",
       "  0.36141079664230347,\n",
       "  0.30883297324180603,\n",
       "  0.28912049531936646,\n",
       "  0.31003543734550476,\n",
       "  0.3023490905761719,\n",
       "  0.31286054849624634,\n",
       "  0.297006756067276,\n",
       "  0.29333043098449707,\n",
       "  0.2948485016822815,\n",
       "  0.30357030034065247,\n",
       "  0.3018869459629059,\n",
       "  0.3245196044445038,\n",
       "  0.3040722608566284,\n",
       "  0.3024357855319977,\n",
       "  0.33379772305488586,\n",
       "  0.2950280010700226,\n",
       "  0.3072226345539093,\n",
       "  0.31726473569869995,\n",
       "  0.3017275631427765,\n",
       "  0.2966560423374176,\n",
       "  0.30087900161743164,\n",
       "  0.31454288959503174,\n",
       "  0.3045962452888489,\n",
       "  0.323728084564209,\n",
       "  0.30892321467399597,\n",
       "  0.3033129572868347,\n",
       "  0.31031039357185364,\n",
       "  0.32933157682418823],\n",
       " 'val_accuracy': [0.894599974155426,\n",
       "  0.892799973487854,\n",
       "  0.8695999979972839,\n",
       "  0.8902000188827515,\n",
       "  0.8953999876976013,\n",
       "  0.8898000121116638,\n",
       "  0.8949999809265137,\n",
       "  0.8855999708175659,\n",
       "  0.8921999931335449,\n",
       "  0.8948000073432922,\n",
       "  0.8962000012397766,\n",
       "  0.8899999856948853,\n",
       "  0.8912000060081482,\n",
       "  0.8790000081062317,\n",
       "  0.8938000202178955,\n",
       "  0.8913999795913696,\n",
       "  0.8866000175476074,\n",
       "  0.8967999815940857,\n",
       "  0.8944000005722046,\n",
       "  0.8884000182151794,\n",
       "  0.8931999802589417,\n",
       "  0.8981999754905701,\n",
       "  0.8967999815940857,\n",
       "  0.8913999795913696,\n",
       "  0.892799973487854,\n",
       "  0.8920000195503235,\n",
       "  0.8953999876976013,\n",
       "  0.8971999883651733,\n",
       "  0.8967999815940857,\n",
       "  0.8916000127792358]}"
      ]
     },
     "execution_count": 29,
     "metadata": {},
     "output_type": "execute_result"
    }
   ],
   "source": [
    "model_history.history"
   ]
  },
  {
   "cell_type": "code",
   "execution_count": 30,
   "id": "98edfc2e",
   "metadata": {},
   "outputs": [
    {
     "data": {
      "image/png": "[encoded data removed]",
      "text/plain": [
       "<Figure size 800x500 with 1 Axes>"
      ]
     },
     "metadata": {},
     "output_type": "display_data"
    }
   ],
   "source": [
    "pd.DataFrame(model_history.history).plot(figsize=(8,5))\n",
    "plt.grid(True)\n",
    "plt.gca().set_ylim(0,1)\n",
    "plt.show()"
   ]
  },
  {
   "cell_type": "code",
   "execution_count": 31,
   "id": "574831f7",
   "metadata": {},
   "outputs": [
    {
     "name": "stdout",
     "output_type": "stream",
     "text": [
      "313/313 [==============================] - 2s 5ms/step - loss: 0.3502 - accuracy: 0.8854\n"
     ]
    },
    {
     "data": {
      "text/plain": [
       "[0.3501988649368286, 0.8853999972343445]"
      ]
     },
     "execution_count": 31,
     "metadata": {},
     "output_type": "execute_result"
    }
   ],
   "source": [
    "model.evaluate(x_test, y_test)"
   ]
  },
  {
   "cell_type": "code",
   "execution_count": 22,
   "id": "691fdc8a",
   "metadata": {},
   "outputs": [],
   "source": [
    "x_new = x_test[:1]"
   ]
  },
  {
   "cell_type": "code",
   "execution_count": 23,
   "id": "45cc8933",
   "metadata": {},
   "outputs": [
    {
     "name": "stdout",
     "output_type": "stream",
     "text": [
      "1/1 [==============================] - 0s 248ms/step\n"
     ]
    }
   ],
   "source": [
    "y_prob = model.predict(x_new)"
   ]
  },
  {
   "cell_type": "code",
   "execution_count": 24,
   "id": "28d6fc67",
   "metadata": {},
   "outputs": [
    {
     "name": "stdout",
     "output_type": "stream",
     "text": [
      "1/1 [==============================] - 0s 51ms/step\n"
     ]
    },
    {
     "data": {
      "text/plain": [
       "array([9], dtype=int64)"
      ]
     },
     "execution_count": 24,
     "metadata": {},
     "output_type": "execute_result"
    }
   ],
   "source": [
    "y_pred = np.argmax(model.predict(x_new),axis=1)\n",
    "y_pred"
   ]
  },
  {
   "cell_type": "code",
   "execution_count": 25,
   "id": "c108ec7f",
   "metadata": {},
   "outputs": [
    {
     "data": {
      "text/plain": [
       "array(['Ankle boot'], dtype='<U11')"
      ]
     },
     "execution_count": 25,
     "metadata": {},
     "output_type": "execute_result"
    }
   ],
   "source": [
    "np.array(classNames)[y_pred]"
   ]
  },
  {
   "cell_type": "code",
   "execution_count": 32,
   "id": "a1e80c27",
   "metadata": {},
   "outputs": [],
   "source": [
    "model.save(\"classifyImage.h5\")"
   ]
  },
  {
   "cell_type": "code",
   "execution_count": null,
   "id": "8cd297be",
   "metadata": {},
   "outputs": [],
   "source": []
  }
 ],
 "metadata": {
  "kernelspec": {
   "display_name": "Python 3 (ipykernel)",
   "language": "python",
   "name": "python3"
  },
  "language_info": {
   "codemirror_mode": {
    "name": "ipython",
    "version": 3
   },
   "file_extension": ".py",
   "mimetype": "text/x-python",
   "name": "python",
   "nbconvert_exporter": "python",
   "pygments_lexer": "ipython3",
   "version": "3.10.6"
  }
 },
 "nbformat": 4,
 "nbformat_minor": 5
}
