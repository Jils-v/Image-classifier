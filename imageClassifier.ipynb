{
 "cells": [
  {
   "cell_type": "code",
   "execution_count": null,
   "id": "b51d3201",
   "metadata": {},
   "outputs": [],
   "source": [
    "from tensorflow import keras\n",
    "import numpy as np\n",
    "import pandas as pd\n",
    "from matplotlib import pyplot as plt"
   ]
  },
  {
   "cell_type": "code",
   "execution_count": null,
   "id": "b2ffe86a",
   "metadata": {},
   "outputs": [],
   "source": [
    "trainDir = r\"D:\\Deep Learning\\train\"\n",
    "testDir = r\"D:\\Deep Learning\\test\"\n",
    "validationDir = r\"D:\\Deep Learning\\validation\""
   ]
  },
  {
   "cell_type": "code",
   "execution_count": null,
   "id": "805bd13e",
   "metadata": {},
   "outputs": [],
   "source": [
    "from tensorflow.keras.preprocessing.image import ImageDataGenerator"
   ]
  },
  {
   "cell_type": "code",
   "execution_count": null,
   "id": "89f44021",
   "metadata": {},
   "outputs": [],
   "source": [
    "# trainDataGen = ImageDataGenerator(rescale=1./255)\n",
    "# testDataGen = ImageDataGenerator(rescale=1./255)\n",
    "\n",
    "# trainGenerator = trainDataGen.flow_from_directory(\n",
    "#     trainDir,\n",
    "#     target_size=(150, 150),\n",
    "#     batch_size=20,\n",
    "#     class_mode='binary'\n",
    "# )\n",
    "\n",
    "# validationGenerator = testDataGen.flow_from_directory(\n",
    "#     validationDir,\n",
    "#     target_size=(150, 150),\n",
    "#     batch_size=20,\n",
    "#     class_mode='binary',\n",
    "# )\n",
    "\n",
    "trainDataGen = ImageDataGenerator(rescale=1./255,\n",
    "                                 rotation_range=40,\n",
    "                                 width_shift_range=0.2,\n",
    "                                 height_shift_range=0.2,\n",
    "                                 shear_range=0.2,\n",
    "                                 zoom_range=0.2,\n",
    "                                 horizontal_flip=True)\n",
    "\n",
    "testDataGen = ImageDataGenerator(rescale=1./255)\n",
    "\n",
    "trainGenerator = trainDataGen.flow_from_directory(\n",
    "    trainDir,\n",
    "    target_size=(150, 150),\n",
    "    batch_size=20\n",
    "    class_mode='binary'\n",
    ")\n",
    "\n",
    "validationGenerator = testDataGen.flow_from_directory(\n",
    "    validationDir,\n",
    "    target_size=(150, 150),\n",
    "    batch_size=20,\n",
    "    class_mode='binary',\n",
    ")"
   ]
  },
  {
   "cell_type": "code",
   "execution_count": null,
   "id": "6bf3006d",
   "metadata": {},
   "outputs": [],
   "source": [
    "# print(next(trainGenerator))"
   ]
  },
  {
   "cell_type": "code",
   "execution_count": null,
   "id": "0be08ec6",
   "metadata": {},
   "outputs": [],
   "source": [
    "from tensorflow.keras import layers\n",
    "from tensorflow.keras import models"
   ]
  },
  {
   "cell_type": "code",
   "execution_count": null,
   "id": "2d25ac58",
   "metadata": {},
   "outputs": [],
   "source": [
    "from keras.applications import VGG16\n",
    "\n",
    "convBase = VGG16(weights='imagenet', include_top=False, input_shape=(150, 150, 3))\n",
    "\n",
    "convBase.summary()"
   ]
  },
  {
   "cell_type": "code",
   "execution_count": null,
   "id": "e317b260",
   "metadata": {},
   "outputs": [],
   "source": [
    "# model = models.Sequential()\n",
    "\n",
    "# model.add(layers.Conv2D(32, (3,3), activation='relu', input_shape=(150, 150, 3)))\n",
    "# model.add(layers.MaxPooling2D((2,2)))\n",
    "\n",
    "# model.add(layers.Conv2D(64, (3,3), activation='relu'))\n",
    "# model.add(layers.MaxPooling2D((2,2)))\n",
    "\n",
    "# model.add(layers.Conv2D(128, (3,3), activation='relu'))\n",
    "# model.add(layers.MaxPooling2D((2,2)))\n",
    "\n",
    "# model.add(layers.Conv2D(128, (3,3), activation='relu'))\n",
    "# model.add(layers.MaxPooling2D((2,2)))\n",
    "\n",
    "# model.add(layers.Flatten())\n",
    "\n",
    "# model.add(layers.Dense(512, activation='relu'))\n",
    "\n",
    "# model.add(layers.Dense(1, activation='sigmoid'))\n",
    "\n",
    "\n",
    "\n",
    "# model = models.Sequential()\n",
    "\n",
    "# model.add(layers.Conv2D(32, (3,3), activation='relu', input_shape=(150, 150, 3)))\n",
    "# model.add(layers.MaxPooling2D((2,2)))\n",
    "\n",
    "# model.add(layers.Conv2D(64, (3,3), activation='relu'))\n",
    "# model.add(layers.MaxPooling2D((2,2)))\n",
    "\n",
    "# model.add(layers.Conv2D(128, (3,3), activation='relu'))\n",
    "# model.add(layers.MaxPooling2D((2,2)))\n",
    "\n",
    "# model.add(layers.Conv2D(128, (3,3), activation='relu'))\n",
    "# model.add(layers.MaxPooling2D((2,2)))\n",
    "\n",
    "# model.add(layers.Flatten())\n",
    "# model.add(layers.Dropout(0.5))\n",
    "\n",
    "# model.add(layers.Dense(512, activation='relu'))\n",
    "\n",
    "# model.add(layers.Dense(1, activation='sigmoid'))\n",
    "\n",
    "\n",
    "model = models.Sequential()\n",
    "\n",
    "model.add(convBase)\n",
    "\n",
    "model.add(layers.Flatten())\n",
    "\n",
    "model.add(layers.Dense(256, activation='relu'))\n",
    "\n",
    "model.add(layers.Dense(1, activation='sigmoid'))"
   ]
  },
  {
   "cell_type": "code",
   "execution_count": null,
   "id": "027fb6da",
   "metadata": {},
   "outputs": [],
   "source": [
    "model.summary()"
   ]
  },
  {
   "cell_type": "code",
   "execution_count": null,
   "id": "51825858",
   "metadata": {},
   "outputs": [],
   "source": [
    "# from tensorflow.keras import optimizers\n",
    "\n",
    "# model.compile(loss='binary_crossentropy',\n",
    "#              optimizer = optimizers.RMSprop(learning_rate=1e-4),\n",
    "#              metrics=['acc'])\n",
    "\n",
    "\n",
    "\n",
    "from tensorflow.keras import optimizers\n",
    "\n",
    "model.compile(loss='binary_crossentropy',\n",
    "             optimizer = optimizers.RMSprop(learning_rate=1e-5),\n",
    "             metrics=['acc'])"
   ]
  },
  {
   "cell_type": "code",
   "execution_count": null,
   "id": "aaf81dac",
   "metadata": {},
   "outputs": [],
   "source": [
    "checkpoint = keras.callbacks.ModelCheckpoint(\"imageClassifierCheck-{epoch:02d}.h5\")"
   ]
  },
  {
   "cell_type": "code",
   "execution_count": null,
   "id": "8a76d387",
   "metadata": {},
   "outputs": [],
   "source": [
    "# history = model.fit(\n",
    "#                 trainGenerator,\n",
    "#                 steps_per_epoch=100,\n",
    "#                 epochs=20,\n",
    "#                 validation_data= validationGenerator,\n",
    "#                 validation_steps=50)\n",
    "\n",
    "\n",
    "# history = model.fit(\n",
    "#                 trainGenerator,\n",
    "#                 steps_per_epoch=100,\n",
    "#                 epochs=30,\n",
    "#                 validation_data= validationGenerator,\n",
    "#                 validation_steps=50)\n",
    "\n",
    "history = model.fit(\n",
    "                trainGenerator,\n",
    "                steps_per_epoch=100,\n",
    "                epochs=30,\n",
    "                validation_data= validationGenerator,\n",
    "                validation_steps=50,\n",
    "                callbacks = [checkpoint])"
   ]
  },
  {
   "cell_type": "code",
   "execution_count": null,
   "id": "a424c95f",
   "metadata": {},
   "outputs": [],
   "source": [
    "pd.DataFrame(history.history).plot(figsize=(8,5))\n",
    "plt.grid(True)\n",
    "plt.gca().set_ylim(0,1)\n",
    "plt.show()"
   ]
  },
  {
   "cell_type": "code",
   "execution_count": null,
   "id": "da874460",
   "metadata": {},
   "outputs": [],
   "source": [
    "# model.save(\"imageClassifier1.h5\")\n",
    "\n",
    "model.save(\"imageClassifier2.h5\")"
   ]
  },
  {
   "cell_type": "code",
   "execution_count": null,
   "id": "dfcf9739",
   "metadata": {},
   "outputs": [],
   "source": [
    "testGenerator = testDataGen.flow_from_directory(\n",
    "                    testDir,\n",
    "                    target_size=(150, 150),\n",
    "                    batch_size=20,\n",
    "                    class_mode='binary')"
   ]
  },
  {
   "cell_type": "code",
   "execution_count": null,
   "id": "20de4b4d",
   "metadata": {},
   "outputs": [],
   "source": [
    "model.evaluate(testGenerator, steps=50)"
   ]
  },
  {
   "cell_type": "code",
   "execution_count": null,
   "id": "d4d70cc1",
   "metadata": {},
   "outputs": [],
   "source": []
  }
 ],
 "metadata": {
  "kernelspec": {
   "display_name": "Python 3 (ipykernel)",
   "language": "python",
   "name": "python3"
  },
  "language_info": {
   "codemirror_mode": {
    "name": "ipython",
    "version": 3
   },
   "file_extension": ".py",
   "mimetype": "text/x-python",
   "name": "python",
   "nbconvert_exporter": "python",
   "pygments_lexer": "ipython3",
   "version": "3.10.6"
  }
 },
 "nbformat": 4,
 "nbformat_minor": 5
}
