{
 "cells": [
  {
   "cell_type": "code",
   "execution_count": 24,
   "id": "cd4198d8",
   "metadata": {},
   "outputs": [],
   "source": [
    "import tensorflow as tf\n",
    "from tensorflow import keras\n",
    "from matplotlib import pyplot as plt\n",
    "import numpy as np\n",
    "import pandas as pd"
   ]
  },
  {
   "cell_type": "code",
   "execution_count": 2,
   "id": "e8ea3692",
   "metadata": {},
   "outputs": [],
   "source": [
    "fashionMnist = keras.datasets.fashion_mnist\n",
    "(x_train_full, y_train_full), (x_test, y_test) = fashionMnist.load_data()"
   ]
  },
  {
   "cell_type": "code",
   "execution_count": 3,
   "id": "2dd7ab89",
   "metadata": {},
   "outputs": [
    {
     "data": {
      "text/plain": [
       "9"
      ]
     },
     "execution_count": 3,
     "metadata": {},
     "output_type": "execute_result"
    },
    {
     "data": {
      "image/png": "[encoded data removed]",
      "text/plain": [
       "<Figure size 640x480 with 1 Axes>"
      ]
     },
     "metadata": {},
     "output_type": "display_data"
    }
   ],
   "source": [
    "plt.imshow(x_train_full[0])\n",
    "y_train_full[0]"
   ]
  },
  {
   "cell_type": "code",
   "execution_count": 4,
   "id": "cf0eaf27",
   "metadata": {},
   "outputs": [],
   "source": [
    "classNames = [\"T-shirt/top\",\"Trouser\",\"Pullover\", \"Dress\", \"Coat\", \"Sandal\", \"Shirt\", \"Sneaker\", \"Bag\", \"Ankle boot\"]"
   ]
  },
  {
   "cell_type": "code",
   "execution_count": 5,
   "id": "0fdb22c8",
   "metadata": {},
   "outputs": [
    {
     "data": {
      "text/plain": [
       "'Ankle boot'"
      ]
     },
     "execution_count": 5,
     "metadata": {},
     "output_type": "execute_result"
    }
   ],
   "source": [
    "classNames[y_train_full[0]]"
   ]
  },
  {
   "cell_type": "code",
   "execution_count": 6,
   "id": "19061e67",
   "metadata": {},
   "outputs": [
    {
     "data": {
      "text/plain": [
       "array([[  0,   0,   0,   0,   0,   0,   0,   0,   0,   0,   0,   0,   0,\n",
       "          0,   0,   0,   0,   0,   0,   0,   0,   0,   0,   0,   0,   0,\n",
       "          0,   0],\n",
       "       [  0,   0,   0,   0,   0,   0,   0,   0,   0,   0,   0,   0,   0,\n",
       "          0,   0,   0,   0,   0,   0,   0,   0,   0,   0,   0,   0,   0,\n",
       "          0,   0],\n",
       "       [  0,   0,   0,   0,   0,   0,   0,   0,   0,   0,   0,   0,   0,\n",
       "          0,   0,   0,   0,   0,   0,   0,   0,   0,   0,   0,   0,   0,\n",
       "          0,   0],\n",
       "       [  0,   0,   0,   0,   0,   0,   0,   0,   0,   0,   0,   0,   1,\n",
       "          0,   0,  13,  73,   0,   0,   1,   4,   0,   0,   0,   0,   1,\n",
       "          1,   0],\n",
       "       [  0,   0,   0,   0,   0,   0,   0,   0,   0,   0,   0,   0,   3,\n",
       "          0,  36, 136, 127,  62,  54,   0,   0,   0,   1,   3,   4,   0,\n",
       "          0,   3],\n",
       "       [  0,   0,   0,   0,   0,   0,   0,   0,   0,   0,   0,   0,   6,\n",
       "          0, 102, 204, 176, 134, 144, 123,  23,   0,   0,   0,   0,  12,\n",
       "         10,   0],\n",
       "       [  0,   0,   0,   0,   0,   0,   0,   0,   0,   0,   0,   0,   0,\n",
       "          0, 155, 236, 207, 178, 107, 156, 161, 109,  64,  23,  77, 130,\n",
       "         72,  15],\n",
       "       [  0,   0,   0,   0,   0,   0,   0,   0,   0,   0,   0,   1,   0,\n",
       "         69, 207, 223, 218, 216, 216, 163, 127, 121, 122, 146, 141,  88,\n",
       "        172,  66],\n",
       "       [  0,   0,   0,   0,   0,   0,   0,   0,   0,   1,   1,   1,   0,\n",
       "        200, 232, 232, 233, 229, 223, 223, 215, 213, 164, 127, 123, 196,\n",
       "        229,   0],\n",
       "       [  0,   0,   0,   0,   0,   0,   0,   0,   0,   0,   0,   0,   0,\n",
       "        183, 225, 216, 223, 228, 235, 227, 224, 222, 224, 221, 223, 245,\n",
       "        173,   0],\n",
       "       [  0,   0,   0,   0,   0,   0,   0,   0,   0,   0,   0,   0,   0,\n",
       "        193, 228, 218, 213, 198, 180, 212, 210, 211, 213, 223, 220, 243,\n",
       "        202,   0],\n",
       "       [  0,   0,   0,   0,   0,   0,   0,   0,   0,   1,   3,   0,  12,\n",
       "        219, 220, 212, 218, 192, 169, 227, 208, 218, 224, 212, 226, 197,\n",
       "        209,  52],\n",
       "       [  0,   0,   0,   0,   0,   0,   0,   0,   0,   0,   6,   0,  99,\n",
       "        244, 222, 220, 218, 203, 198, 221, 215, 213, 222, 220, 245, 119,\n",
       "        167,  56],\n",
       "       [  0,   0,   0,   0,   0,   0,   0,   0,   0,   4,   0,   0,  55,\n",
       "        236, 228, 230, 228, 240, 232, 213, 218, 223, 234, 217, 217, 209,\n",
       "         92,   0],\n",
       "       [  0,   0,   1,   4,   6,   7,   2,   0,   0,   0,   0,   0, 237,\n",
       "        226, 217, 223, 222, 219, 222, 221, 216, 223, 229, 215, 218, 255,\n",
       "         77,   0],\n",
       "       [  0,   3,   0,   0,   0,   0,   0,   0,   0,  62, 145, 204, 228,\n",
       "        207, 213, 221, 218, 208, 211, 218, 224, 223, 219, 215, 224, 244,\n",
       "        159,   0],\n",
       "       [  0,   0,   0,   0,  18,  44,  82, 107, 189, 228, 220, 222, 217,\n",
       "        226, 200, 205, 211, 230, 224, 234, 176, 188, 250, 248, 233, 238,\n",
       "        215,   0],\n",
       "       [  0,  57, 187, 208, 224, 221, 224, 208, 204, 214, 208, 209, 200,\n",
       "        159, 245, 193, 206, 223, 255, 255, 221, 234, 221, 211, 220, 232,\n",
       "        246,   0],\n",
       "       [  3, 202, 228, 224, 221, 211, 211, 214, 205, 205, 205, 220, 240,\n",
       "         80, 150, 255, 229, 221, 188, 154, 191, 210, 204, 209, 222, 228,\n",
       "        225,   0],\n",
       "       [ 98, 233, 198, 210, 222, 229, 229, 234, 249, 220, 194, 215, 217,\n",
       "        241,  65,  73, 106, 117, 168, 219, 221, 215, 217, 223, 223, 224,\n",
       "        229,  29],\n",
       "       [ 75, 204, 212, 204, 193, 205, 211, 225, 216, 185, 197, 206, 198,\n",
       "        213, 240, 195, 227, 245, 239, 223, 218, 212, 209, 222, 220, 221,\n",
       "        230,  67],\n",
       "       [ 48, 203, 183, 194, 213, 197, 185, 190, 194, 192, 202, 214, 219,\n",
       "        221, 220, 236, 225, 216, 199, 206, 186, 181, 177, 172, 181, 205,\n",
       "        206, 115],\n",
       "       [  0, 122, 219, 193, 179, 171, 183, 196, 204, 210, 213, 207, 211,\n",
       "        210, 200, 196, 194, 191, 195, 191, 198, 192, 176, 156, 167, 177,\n",
       "        210,  92],\n",
       "       [  0,   0,  74, 189, 212, 191, 175, 172, 175, 181, 185, 188, 189,\n",
       "        188, 193, 198, 204, 209, 210, 210, 211, 188, 188, 194, 192, 216,\n",
       "        170,   0],\n",
       "       [  2,   0,   0,   0,  66, 200, 222, 237, 239, 242, 246, 243, 244,\n",
       "        221, 220, 193, 191, 179, 182, 182, 181, 176, 166, 168,  99,  58,\n",
       "          0,   0],\n",
       "       [  0,   0,   0,   0,   0,   0,   0,  40,  61,  44,  72,  41,  35,\n",
       "          0,   0,   0,   0,   0,   0,   0,   0,   0,   0,   0,   0,   0,\n",
       "          0,   0],\n",
       "       [  0,   0,   0,   0,   0,   0,   0,   0,   0,   0,   0,   0,   0,\n",
       "          0,   0,   0,   0,   0,   0,   0,   0,   0,   0,   0,   0,   0,\n",
       "          0,   0],\n",
       "       [  0,   0,   0,   0,   0,   0,   0,   0,   0,   0,   0,   0,   0,\n",
       "          0,   0,   0,   0,   0,   0,   0,   0,   0,   0,   0,   0,   0,\n",
       "          0,   0]], dtype=uint8)"
      ]
     },
     "execution_count": 6,
     "metadata": {},
     "output_type": "execute_result"
    }
   ],
   "source": [
    "x_train_full[0]"
   ]
  },
  {
   "cell_type": "code",
   "execution_count": 7,
   "id": "7fa083f0",
   "metadata": {},
   "outputs": [],
   "source": [
    "x_train_n = x_train_full / 255.\n",
    "x_test_n = x_test / 255."
   ]
  },
  {
   "cell_type": "code",
   "execution_count": 8,
   "id": "37eaf9c5",
   "metadata": {},
   "outputs": [],
   "source": [
    "x_validation, x_train = x_train_n[:5000], x_train_n[5000:]\n",
    "y_validation, y_train = y_train_full[:5000], y_train_full[5000:]\n",
    "x_test = x_test_n"
   ]
  },
  {
   "cell_type": "code",
   "execution_count": 9,
   "id": "0f266df4",
   "metadata": {},
   "outputs": [],
   "source": [
    "np.random.seed(42)\n",
    "tf.random.set_seed(42)"
   ]
  },
  {
   "cell_type": "code",
   "execution_count": 10,
   "id": "b09924a3",
   "metadata": {},
   "outputs": [],
   "source": [
    "model = keras.models.Sequential()\n",
    "model.add(keras.layers.Flatten(input_shape=[28, 28]))\n",
    "model.add(keras.layers.Dense(300, activation=\"relu\"))\n",
    "model.add(keras.layers.Dense(100, activation=\"relu\"))\n",
    "model.add(keras.layers.Dense(10, activation=\"softmax\"))"
   ]
  },
  {
   "cell_type": "code",
   "execution_count": 11,
   "id": "03fab8bd",
   "metadata": {},
   "outputs": [
    {
     "name": "stdout",
     "output_type": "stream",
     "text": [
      "Model: \"sequential\"\n",
      "_________________________________________________________________\n",
      " Layer (type)                Output Shape              Param #   \n",
      "=================================================================\n",
      " flatten (Flatten)           (None, 784)               0         \n",
      "                                                                 \n",
      " dense (Dense)               (None, 300)               235500    \n",
      "                                                                 \n",
      " dense_1 (Dense)             (None, 100)               30100     \n",
      "                                                                 \n",
      " dense_2 (Dense)             (None, 10)                1010      \n",
      "                                                                 \n",
      "=================================================================\n",
      "Total params: 266,610\n",
      "Trainable params: 266,610\n",
      "Non-trainable params: 0\n",
      "_________________________________________________________________\n"
     ]
    }
   ],
   "source": [
    "model.summary()"
   ]
  },
  {
   "cell_type": "code",
   "execution_count": 12,
   "id": "a84aad7a",
   "metadata": {},
   "outputs": [],
   "source": [
    "weights, biases = model.layers[1].get_weights()"
   ]
  },
  {
   "cell_type": "code",
   "execution_count": 13,
   "id": "4552c4b9",
   "metadata": {},
   "outputs": [
    {
     "data": {
      "text/plain": [
       "(784, 300)"
      ]
     },
     "execution_count": 13,
     "metadata": {},
     "output_type": "execute_result"
    }
   ],
   "source": [
    "weights.shape"
   ]
  },
  {
   "cell_type": "code",
   "execution_count": 14,
   "id": "75ed446f",
   "metadata": {},
   "outputs": [
    {
     "data": {
      "text/plain": [
       "array([[ 0.00791415,  0.0561979 , -0.0234876 , ..., -0.00983209,\n",
       "        -0.03120637,  0.0575832 ],\n",
       "       [-0.01908387,  0.01750739,  0.02322875, ..., -0.05355776,\n",
       "        -0.04276754,  0.06048314],\n",
       "       [-0.01636275,  0.00949353, -0.04571586, ..., -0.01420614,\n",
       "         0.03539894, -0.02961418],\n",
       "       ...,\n",
       "       [ 0.05271746,  0.05116509, -0.06683809, ...,  0.02503024,\n",
       "        -0.01873713,  0.05246298],\n",
       "       [-0.04723293,  0.05086258,  0.02359   , ..., -0.07240723,\n",
       "         0.01092523, -0.01242507],\n",
       "       [ 0.01509589, -0.05094609, -0.02026619, ...,  0.03420725,\n",
       "         0.05165899, -0.00764434]], dtype=float32)"
      ]
     },
     "execution_count": 14,
     "metadata": {},
     "output_type": "execute_result"
    }
   ],
   "source": [
    "weights"
   ]
  },
  {
   "cell_type": "code",
   "execution_count": 15,
   "id": "9c43da92",
   "metadata": {},
   "outputs": [
    {
     "data": {
      "text/plain": [
       "array([0., 0., 0., 0., 0., 0., 0., 0., 0., 0., 0., 0., 0., 0., 0., 0., 0.,\n",
       "       0., 0., 0., 0., 0., 0., 0., 0., 0., 0., 0., 0., 0., 0., 0., 0., 0.,\n",
       "       0., 0., 0., 0., 0., 0., 0., 0., 0., 0., 0., 0., 0., 0., 0., 0., 0.,\n",
       "       0., 0., 0., 0., 0., 0., 0., 0., 0., 0., 0., 0., 0., 0., 0., 0., 0.,\n",
       "       0., 0., 0., 0., 0., 0., 0., 0., 0., 0., 0., 0., 0., 0., 0., 0., 0.,\n",
       "       0., 0., 0., 0., 0., 0., 0., 0., 0., 0., 0., 0., 0., 0., 0., 0., 0.,\n",
       "       0., 0., 0., 0., 0., 0., 0., 0., 0., 0., 0., 0., 0., 0., 0., 0., 0.,\n",
       "       0., 0., 0., 0., 0., 0., 0., 0., 0., 0., 0., 0., 0., 0., 0., 0., 0.,\n",
       "       0., 0., 0., 0., 0., 0., 0., 0., 0., 0., 0., 0., 0., 0., 0., 0., 0.,\n",
       "       0., 0., 0., 0., 0., 0., 0., 0., 0., 0., 0., 0., 0., 0., 0., 0., 0.,\n",
       "       0., 0., 0., 0., 0., 0., 0., 0., 0., 0., 0., 0., 0., 0., 0., 0., 0.,\n",
       "       0., 0., 0., 0., 0., 0., 0., 0., 0., 0., 0., 0., 0., 0., 0., 0., 0.,\n",
       "       0., 0., 0., 0., 0., 0., 0., 0., 0., 0., 0., 0., 0., 0., 0., 0., 0.,\n",
       "       0., 0., 0., 0., 0., 0., 0., 0., 0., 0., 0., 0., 0., 0., 0., 0., 0.,\n",
       "       0., 0., 0., 0., 0., 0., 0., 0., 0., 0., 0., 0., 0., 0., 0., 0., 0.,\n",
       "       0., 0., 0., 0., 0., 0., 0., 0., 0., 0., 0., 0., 0., 0., 0., 0., 0.,\n",
       "       0., 0., 0., 0., 0., 0., 0., 0., 0., 0., 0., 0., 0., 0., 0., 0., 0.,\n",
       "       0., 0., 0., 0., 0., 0., 0., 0., 0., 0., 0.], dtype=float32)"
      ]
     },
     "execution_count": 15,
     "metadata": {},
     "output_type": "execute_result"
    }
   ],
   "source": [
    "biases"
   ]
  },
  {
   "cell_type": "code",
   "execution_count": 16,
   "id": "d739f1e7",
   "metadata": {},
   "outputs": [],
   "source": [
    "model.compile(loss=\"sparse_categorical_crossentropy\", optimizer=\"sgd\", metrics=[\"accuracy\"])"
   ]
  },
  {
   "cell_type": "code",
   "execution_count": 26,
   "id": "5b366f91",
   "metadata": {},
   "outputs": [
    {
     "name": "stdout",
     "output_type": "stream",
     "text": [
      "Epoch 1/30\n",
      "1719/1719 [==============================] - 10s 6ms/step - loss: 0.2184 - accuracy: 0.9210 - val_loss: 0.2977 - val_accuracy: 0.8914\n",
      "Epoch 2/30\n",
      "1719/1719 [==============================] - 10s 6ms/step - loss: 0.2154 - accuracy: 0.9225 - val_loss: 0.2961 - val_accuracy: 0.8942\n",
      "Epoch 3/30\n",
      "1719/1719 [==============================] - 11s 6ms/step - loss: 0.2115 - accuracy: 0.9233 - val_loss: 0.4108 - val_accuracy: 0.8530\n",
      "Epoch 4/30\n",
      "1719/1719 [==============================] - 10s 6ms/step - loss: 0.2089 - accuracy: 0.9256 - val_loss: 0.3051 - val_accuracy: 0.8924\n",
      "Epoch 5/30\n",
      "1719/1719 [==============================] - 10s 6ms/step - loss: 0.2073 - accuracy: 0.9255 - val_loss: 0.2850 - val_accuracy: 0.8948\n",
      "Epoch 6/30\n",
      "1719/1719 [==============================] - 10s 6ms/step - loss: 0.2012 - accuracy: 0.9274 - val_loss: 0.2988 - val_accuracy: 0.8934\n",
      "Epoch 7/30\n",
      "1719/1719 [==============================] - 10s 6ms/step - loss: 0.1988 - accuracy: 0.9291 - val_loss: 0.2948 - val_accuracy: 0.8974\n",
      "Epoch 8/30\n",
      "1719/1719 [==============================] - 10s 6ms/step - loss: 0.1966 - accuracy: 0.9296 - val_loss: 0.3187 - val_accuracy: 0.8830\n",
      "Epoch 9/30\n",
      "1719/1719 [==============================] - 10s 6ms/step - loss: 0.1935 - accuracy: 0.9303 - val_loss: 0.3004 - val_accuracy: 0.8918\n",
      "Epoch 10/30\n",
      "1719/1719 [==============================] - 10s 6ms/step - loss: 0.1907 - accuracy: 0.9312 - val_loss: 0.2922 - val_accuracy: 0.8960\n",
      "Epoch 11/30\n",
      "1719/1719 [==============================] - 10s 6ms/step - loss: 0.1872 - accuracy: 0.9330 - val_loss: 0.2936 - val_accuracy: 0.8970\n",
      "Epoch 12/30\n",
      "1719/1719 [==============================] - 10s 6ms/step - loss: 0.1840 - accuracy: 0.9333 - val_loss: 0.3087 - val_accuracy: 0.8922\n",
      "Epoch 13/30\n",
      "1719/1719 [==============================] - 10s 6ms/step - loss: 0.1815 - accuracy: 0.9356 - val_loss: 0.2965 - val_accuracy: 0.8980\n",
      "Epoch 14/30\n",
      "1719/1719 [==============================] - 10s 6ms/step - loss: 0.1787 - accuracy: 0.9359 - val_loss: 0.3198 - val_accuracy: 0.8848\n",
      "Epoch 15/30\n",
      "1719/1719 [==============================] - 11s 6ms/step - loss: 0.1754 - accuracy: 0.9379 - val_loss: 0.3028 - val_accuracy: 0.8942\n",
      "Epoch 16/30\n",
      "1719/1719 [==============================] - 10s 6ms/step - loss: 0.1738 - accuracy: 0.9383 - val_loss: 0.2946 - val_accuracy: 0.8924\n",
      "Epoch 17/30\n",
      "1719/1719 [==============================] - 11s 6ms/step - loss: 0.1706 - accuracy: 0.9403 - val_loss: 0.3399 - val_accuracy: 0.8882\n",
      "Epoch 18/30\n",
      "1719/1719 [==============================] - 11s 6ms/step - loss: 0.1677 - accuracy: 0.9393 - val_loss: 0.2973 - val_accuracy: 0.8962\n",
      "Epoch 19/30\n",
      "1719/1719 [==============================] - 10s 6ms/step - loss: 0.1657 - accuracy: 0.9415 - val_loss: 0.3093 - val_accuracy: 0.8968\n",
      "Epoch 20/30\n",
      "1719/1719 [==============================] - 10s 6ms/step - loss: 0.1628 - accuracy: 0.9427 - val_loss: 0.3080 - val_accuracy: 0.8940\n",
      "Epoch 21/30\n",
      "1719/1719 [==============================] - 10s 6ms/step - loss: 0.1602 - accuracy: 0.9429 - val_loss: 0.3030 - val_accuracy: 0.8924\n",
      "Epoch 22/30\n",
      "1719/1719 [==============================] - 10s 6ms/step - loss: 0.1587 - accuracy: 0.9437 - val_loss: 0.2929 - val_accuracy: 0.8994\n",
      "Epoch 23/30\n",
      "1719/1719 [==============================] - 11s 6ms/step - loss: 0.1551 - accuracy: 0.9450 - val_loss: 0.3121 - val_accuracy: 0.8940\n",
      "Epoch 24/30\n",
      "1719/1719 [==============================] - 10s 6ms/step - loss: 0.1532 - accuracy: 0.9449 - val_loss: 0.3061 - val_accuracy: 0.8932\n",
      "Epoch 25/30\n",
      "1719/1719 [==============================] - 10s 6ms/step - loss: 0.1502 - accuracy: 0.9477 - val_loss: 0.3011 - val_accuracy: 0.8968\n",
      "Epoch 26/30\n",
      "1719/1719 [==============================] - 11s 6ms/step - loss: 0.1475 - accuracy: 0.9482 - val_loss: 0.3066 - val_accuracy: 0.8970\n",
      "Epoch 27/30\n",
      "1719/1719 [==============================] - 10s 6ms/step - loss: 0.1460 - accuracy: 0.9481 - val_loss: 0.3119 - val_accuracy: 0.8978\n",
      "Epoch 28/30\n",
      "1719/1719 [==============================] - 11s 6ms/step - loss: 0.1441 - accuracy: 0.9480 - val_loss: 0.3070 - val_accuracy: 0.9016\n",
      "Epoch 29/30\n",
      "1719/1719 [==============================] - 11s 6ms/step - loss: 0.1408 - accuracy: 0.9508 - val_loss: 0.3186 - val_accuracy: 0.8946\n",
      "Epoch 30/30\n",
      "1719/1719 [==============================] - 10s 6ms/step - loss: 0.1385 - accuracy: 0.9512 - val_loss: 0.3249 - val_accuracy: 0.8974\n"
     ]
    }
   ],
   "source": [
    "model_history = model.fit(x_train, y_train, epochs=30, validation_data=(x_validation, y_validation))"
   ]
  },
  {
   "cell_type": "code",
   "execution_count": 27,
   "id": "4b1ed21b",
   "metadata": {},
   "outputs": [
    {
     "data": {
      "text/plain": [
       "{'verbose': 1, 'epochs': 30, 'steps': 1719}"
      ]
     },
     "execution_count": 27,
     "metadata": {},
     "output_type": "execute_result"
    }
   ],
   "source": [
    "model_history.params"
   ]
  },
  {
   "cell_type": "code",
   "execution_count": 28,
   "id": "31a1ebcd",
   "metadata": {},
   "outputs": [
    {
     "data": {
      "text/plain": [
       "{'loss': [0.21839019656181335,\n",
       "  0.21541543304920197,\n",
       "  0.2114732563495636,\n",
       "  0.20887655019760132,\n",
       "  0.20725366473197937,\n",
       "  0.20124995708465576,\n",
       "  0.1988392174243927,\n",
       "  0.19659310579299927,\n",
       "  0.19350415468215942,\n",
       "  0.19068236649036407,\n",
       "  0.18722030520439148,\n",
       "  0.18400169909000397,\n",
       "  0.18149800598621368,\n",
       "  0.17871123552322388,\n",
       "  0.1753915548324585,\n",
       "  0.17378468811511993,\n",
       "  0.17059336602687836,\n",
       "  0.1677168607711792,\n",
       "  0.16566388309001923,\n",
       "  0.1628136932849884,\n",
       "  0.16023382544517517,\n",
       "  0.15870139002799988,\n",
       "  0.15512128174304962,\n",
       "  0.15317432582378387,\n",
       "  0.15023885667324066,\n",
       "  0.14747509360313416,\n",
       "  0.14595168828964233,\n",
       "  0.14408649504184723,\n",
       "  0.14083264768123627,\n",
       "  0.1385243833065033],\n",
       " 'accuracy': [0.9210000038146973,\n",
       "  0.9225454330444336,\n",
       "  0.9232909083366394,\n",
       "  0.9256181716918945,\n",
       "  0.9254727363586426,\n",
       "  0.9273636341094971,\n",
       "  0.9291272759437561,\n",
       "  0.9296181797981262,\n",
       "  0.930290937423706,\n",
       "  0.9312182068824768,\n",
       "  0.9330000281333923,\n",
       "  0.9332545399665833,\n",
       "  0.9356181621551514,\n",
       "  0.935945451259613,\n",
       "  0.9379090666770935,\n",
       "  0.9383454322814941,\n",
       "  0.9402545690536499,\n",
       "  0.9392545223236084,\n",
       "  0.9414545297622681,\n",
       "  0.9426727294921875,\n",
       "  0.9428908824920654,\n",
       "  0.9437454342842102,\n",
       "  0.9450363516807556,\n",
       "  0.9448909163475037,\n",
       "  0.9477090835571289,\n",
       "  0.9481818079948425,\n",
       "  0.9480727314949036,\n",
       "  0.9480000138282776,\n",
       "  0.9507636427879333,\n",
       "  0.951200008392334],\n",
       " 'val_loss': [0.29772379994392395,\n",
       "  0.2960517704486847,\n",
       "  0.41084498167037964,\n",
       "  0.30511873960494995,\n",
       "  0.28501543402671814,\n",
       "  0.29884055256843567,\n",
       "  0.2948455810546875,\n",
       "  0.3186834752559662,\n",
       "  0.3004108965396881,\n",
       "  0.29217529296875,\n",
       "  0.29358917474746704,\n",
       "  0.3086707890033722,\n",
       "  0.2964985966682434,\n",
       "  0.31984198093414307,\n",
       "  0.302799254655838,\n",
       "  0.29459676146507263,\n",
       "  0.3399246037006378,\n",
       "  0.29734256863594055,\n",
       "  0.30932340025901794,\n",
       "  0.30795150995254517,\n",
       "  0.30295899510383606,\n",
       "  0.29288554191589355,\n",
       "  0.3120845556259155,\n",
       "  0.30605509877204895,\n",
       "  0.3010774254798889,\n",
       "  0.30658167600631714,\n",
       "  0.31190645694732666,\n",
       "  0.307024747133255,\n",
       "  0.3186204731464386,\n",
       "  0.3249405026435852],\n",
       " 'val_accuracy': [0.8913999795913696,\n",
       "  0.8942000269889832,\n",
       "  0.8529999852180481,\n",
       "  0.8924000263214111,\n",
       "  0.8948000073432922,\n",
       "  0.8934000134468079,\n",
       "  0.8974000215530396,\n",
       "  0.8830000162124634,\n",
       "  0.8917999863624573,\n",
       "  0.8960000276565552,\n",
       "  0.8970000147819519,\n",
       "  0.8921999931335449,\n",
       "  0.8980000019073486,\n",
       "  0.8848000168800354,\n",
       "  0.8942000269889832,\n",
       "  0.8924000263214111,\n",
       "  0.8881999850273132,\n",
       "  0.8962000012397766,\n",
       "  0.8967999815940857,\n",
       "  0.8939999938011169,\n",
       "  0.8924000263214111,\n",
       "  0.899399995803833,\n",
       "  0.8939999938011169,\n",
       "  0.8931999802589417,\n",
       "  0.8967999815940857,\n",
       "  0.8970000147819519,\n",
       "  0.8978000283241272,\n",
       "  0.9016000032424927,\n",
       "  0.894599974155426,\n",
       "  0.8974000215530396]}"
      ]
     },
     "execution_count": 28,
     "metadata": {},
     "output_type": "execute_result"
    }
   ],
   "source": [
    "model_history.history"
   ]
  },
  {
   "cell_type": "code",
   "execution_count": 29,
   "id": "98edfc2e",
   "metadata": {},
   "outputs": [
    {
     "data": {
      "image/png": "[encoded data removed]",
      "text/plain": [
       "<Figure size 800x500 with 1 Axes>"
      ]
     },
     "metadata": {},
     "output_type": "display_data"
    }
   ],
   "source": [
    "pd.DataFrame(model_history.history).plot(figsize=(8,5))\n",
    "plt.grid(True)\n",
    "plt.gca().set_ylim(0,1)\n",
    "plt.show()"
   ]
  },
  {
   "cell_type": "code",
   "execution_count": 30,
   "id": "574831f7",
   "metadata": {},
   "outputs": [
    {
     "name": "stdout",
     "output_type": "stream",
     "text": [
      "313/313 [==============================] - 2s 5ms/step - loss: 0.3595 - accuracy: 0.8868\n"
     ]
    },
    {
     "data": {
      "text/plain": [
       "[0.3594924509525299, 0.8867999911308289]"
      ]
     },
     "execution_count": 30,
     "metadata": {},
     "output_type": "execute_result"
    }
   ],
   "source": [
    "model.evaluate(x_test, y_test)"
   ]
  },
  {
   "cell_type": "code",
   "execution_count": 31,
   "id": "691fdc8a",
   "metadata": {},
   "outputs": [],
   "source": [
    "x_new = x_test[:1]"
   ]
  },
  {
   "cell_type": "code",
   "execution_count": 32,
   "id": "45cc8933",
   "metadata": {},
   "outputs": [
    {
     "name": "stdout",
     "output_type": "stream",
     "text": [
      "1/1 [==============================] - 0s 278ms/step\n"
     ]
    }
   ],
   "source": [
    "y_prob = model.predict(x_new)"
   ]
  },
  {
   "cell_type": "code",
   "execution_count": 38,
   "id": "28d6fc67",
   "metadata": {},
   "outputs": [
    {
     "name": "stdout",
     "output_type": "stream",
     "text": [
      "1/1 [==============================] - 0s 69ms/step\n"
     ]
    },
    {
     "data": {
      "text/plain": [
       "array([9], dtype=int64)"
      ]
     },
     "execution_count": 38,
     "metadata": {},
     "output_type": "execute_result"
    }
   ],
   "source": [
    "y_pred = np.argmax(model.predict(x_new),axis=1)\n",
    "y_pred"
   ]
  },
  {
   "cell_type": "code",
   "execution_count": 39,
   "id": "c108ec7f",
   "metadata": {},
   "outputs": [
    {
     "data": {
      "text/plain": [
       "array(['Ankle boot'], dtype='<U11')"
      ]
     },
     "execution_count": 39,
     "metadata": {},
     "output_type": "execute_result"
    }
   ],
   "source": [
    "np.array(classNames)[y_pred]"
   ]
  },
  {
   "cell_type": "code",
   "execution_count": null,
   "id": "a1e80c27",
   "metadata": {},
   "outputs": [],
   "source": []
  }
 ],
 "metadata": {
  "kernelspec": {
   "display_name": "Python 3 (ipykernel)",
   "language": "python",
   "name": "python3"
  },
  "language_info": {
   "codemirror_mode": {
    "name": "ipython",
    "version": 3
   },
   "file_extension": ".py",
   "mimetype": "text/x-python",
   "name": "python",
   "nbconvert_exporter": "python",
   "pygments_lexer": "ipython3",
   "version": "3.10.6"
  }
 },
 "nbformat": 4,
 "nbformat_minor": 5
}
